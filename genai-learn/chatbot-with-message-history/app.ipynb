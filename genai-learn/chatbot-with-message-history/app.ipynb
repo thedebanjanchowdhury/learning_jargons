{
 "cells": [
  {
   "cell_type": "code",
   "execution_count": 1,
   "id": "37a3fa65",
   "metadata": {},
   "outputs": [
    {
     "name": "stderr",
     "output_type": "stream",
     "text": [
      "C:\\Users\\User\\AppData\\Roaming\\Python\\Python313\\site-packages\\tqdm\\auto.py:21: TqdmWarning: IProgress not found. Please update jupyter and ipywidgets. See https://ipywidgets.readthedocs.io/en/stable/user_install.html\n",
      "  from .autonotebook import tqdm as notebook_tqdm\n"
     ]
    },
    {
     "data": {
      "text/plain": [
       "'Your name is Debanjan.'"
      ]
     },
     "execution_count": 1,
     "metadata": {},
     "output_type": "execute_result"
    }
   ],
   "source": [
    "from langchain_core.messages import AIMessage, HumanMessage\n",
    "from langchain_groq import ChatGroq\n",
    "from langchain_community.chat_message_histories import ChatMessageHistory\n",
    "from langchain_core.chat_history import BaseChatMessageHistory\n",
    "\n",
    "model = ChatGroq(model=\"openai/gpt-oss-20b\", temperature=0.1, max_tokens=1024)\n",
    "\n",
    "result = model.invoke(\n",
    "  [\n",
    "    HumanMessage(content=\"I'm Debanjan, a passionate software developer.\"),\n",
    "    AIMessage(content=\"Hello! How can I assist you today?\"),\n",
    "    HumanMessage(content=\"What is my name?\"),\n",
    "  ]\n",
    ")\n",
    "\n",
    "result.content"
   ]
  },
  {
   "cell_type": "code",
   "execution_count": null,
   "id": "68783060",
   "metadata": {},
   "outputs": [
    {
     "data": {
      "text/plain": [
       "'Hey Debanjan! 👋 Great to meet a fellow software developer. What kind of projects are you working on right now? Are you into web dev, mobile, backend, data science, or something else? Feel free to share any cool tech or challenges you’re tackling—happy to chat or help out!'"
      ]
     },
     "execution_count": 14,
     "metadata": {},
     "output_type": "execute_result"
    }
   ],
   "source": [
    "from langchain_community.chat_message_histories import ChatMessageHistory\n",
    "from langchain_core.chat_history import BaseChatMessageHistory\n",
    "from langchain_core.runnables.history import RunnableWithMessageHistory\n",
    "\n",
    "store = {}\n",
    "\n",
    "def get_session_history (session_id:str) -> BaseChatMessageHistory:\n",
    "  if session_id not in store:\n",
    "    store[session_id] = ChatMessageHistory()\n",
    "  return store[session_id]\n",
    "\n",
    "config = {\"configurable\": {\"session_id\": \"chat_2\"}}\n",
    "\n",
    "response = RunnableWithMessageHistory(\n",
    "  model, get_session_history\n",
    ")\n",
    "\n",
    "response.invoke(\n",
    "  [HumanMessage(content=\"I'm Debanjan, a passionate software developer.\")],\n",
    "  config=config\n",
    ").content"
   ]
  },
  {
   "cell_type": "code",
   "execution_count": 16,
   "id": "72c5d38f",
   "metadata": {},
   "outputs": [
    {
     "data": {
      "text/plain": [
       "'Your name is Debanjan.'"
      ]
     },
     "execution_count": 16,
     "metadata": {},
     "output_type": "execute_result"
    }
   ],
   "source": [
    "response.invoke(\n",
    "  [HumanMessage(content=\"What is my name?\")],\n",
    "  config=config\n",
    ").content"
   ]
  },
  {
   "cell_type": "code",
   "execution_count": null,
   "id": "d09214fc",
   "metadata": {},
   "outputs": [],
   "source": []
  }
 ],
 "metadata": {
  "kernelspec": {
   "display_name": "Python 3",
   "language": "python",
   "name": "python3"
  },
  "language_info": {
   "codemirror_mode": {
    "name": "ipython",
    "version": 3
   },
   "file_extension": ".py",
   "mimetype": "text/x-python",
   "name": "python",
   "nbconvert_exporter": "python",
   "pygments_lexer": "ipython3",
   "version": "3.13.1"
  }
 },
 "nbformat": 4,
 "nbformat_minor": 5
}
